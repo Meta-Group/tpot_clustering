{
 "cells": [
  {
   "cell_type": "markdown",
   "id": "5b42923b",
   "metadata": {},
   "source": [
    "# TPOT Clustering Notebook\n",
    "\n",
    "> Implementação de funcionalidade de Clustering para o framework TPOT"
   ]
  },
  {
   "cell_type": "markdown",
   "id": "9a997e7e",
   "metadata": {},
   "source": [
    "---"
   ]
  },
  {
   "cell_type": "markdown",
   "id": "ac94c19e",
   "metadata": {},
   "source": [
    "### Workbench"
   ]
  },
  {
   "cell_type": "code",
   "execution_count": null,
   "id": "ddbe439b",
   "metadata": {},
   "outputs": [],
   "source": [
    "# import tpot.tpot\n",
    "from tpot.tpot import TPOTClassifier\n",
    "from sklearn.datasets import load_digits\n",
    "from sklearn.datasets import load_iris\n",
    "from sklearn.model_selection import train_test_split\n",
    "import dask_ml.model_selection\n"
   ]
  },
  {
   "cell_type": "code",
   "execution_count": null,
   "id": "e5172c66",
   "metadata": {},
   "outputs": [],
   "source": [
    "from dask.distributed import Client\n",
    "client = Client()\n",
    "client"
   ]
  },
  {
   "cell_type": "code",
   "execution_count": null,
   "id": "1d8391d0",
   "metadata": {},
   "outputs": [],
   "source": [
    "digits = load_digits()\n",
    "\n",
    "X_train, X_test, y_train, y_test = train_test_split(digits.data, digits.target,\n",
    "                                                    train_size=0.75, test_size=0.25, random_state=42)"
   ]
  },
  {
   "cell_type": "code",
   "execution_count": null,
   "id": "720264f1",
   "metadata": {},
   "outputs": [],
   "source": [
    "classifier = TPOTClassifier(\n",
    "        generations=3,\n",
    "        population_size=10,\n",
    "        cv=2,\n",
    "        n_jobs=-1,\n",
    "        config_dict=tpot.config.classifier_config_dict_light,\n",
    "        use_dask=True,\n",
    "        verbose=1\n",
    "        )\n",
    "\n",
    "\n",
    "classifier.fit(X_train, y_train)\n",
    "print(classifier.score(X_test, y_test))\n",
    "classifier.export('tpot_digits_clustering.py')"
   ]
  },
  {
   "cell_type": "code",
   "execution_count": null,
   "id": "7856b8cd",
   "metadata": {},
   "outputs": [],
   "source": [
    "client.close()"
   ]
  },
  {
   "cell_type": "markdown",
   "id": "700606a1",
   "metadata": {},
   "source": [
    "----"
   ]
  },
  {
   "cell_type": "markdown",
   "id": "7ac8b922",
   "metadata": {},
   "source": [
    "### Configuration dicts (Operators)\n",
    "\n",
    "\n",
    "> Existe um diretório de dicionarios de configuração dentro do TPOT.\n",
    "Quando o campo opcional config_dict está vazio, o TPOT busca configurações pré-salvas nesse diretório. \n",
    "\n",
    "> Adicionei um arquivo de config para Clustering lá dentro, mas é possível mudar a configuração dos operadores ao criar um dicionário no notebook e passá-lo como parâmetro.\n",
    "\n",
    "> É preciso expor o dict criado em config/\\__init.py__\n",
    "\n",
    "#### Todo \n",
    "\n",
    "- fix _setup_config: update base.py to handle clustering configuration"
   ]
  },
  {
   "cell_type": "code",
   "execution_count": 4,
   "id": "fc608896",
   "metadata": {},
   "outputs": [
    {
     "data": {
      "text/plain": [
       "{'sklearn.cluster.KMeans': {},\n",
       " 'sklearn.cluster.DBSCAN': {},\n",
       " 'sklearn.preprocessing.Binarizer': {'threshold': array([0.  , 0.05, 0.1 , 0.15, 0.2 , 0.25, 0.3 , 0.35, 0.4 , 0.45, 0.5 ,\n",
       "         0.55, 0.6 , 0.65, 0.7 , 0.75, 0.8 , 0.85, 0.9 , 0.95, 1.  ])},\n",
       " 'sklearn.decomposition.FastICA': {'tol': array([0.  , 0.05, 0.1 , 0.15, 0.2 , 0.25, 0.3 , 0.35, 0.4 , 0.45, 0.5 ,\n",
       "         0.55, 0.6 , 0.65, 0.7 , 0.75, 0.8 , 0.85, 0.9 , 0.95, 1.  ])},\n",
       " 'sklearn.cluster.FeatureAgglomeration': {'linkage': ['ward',\n",
       "   'complete',\n",
       "   'average'],\n",
       "  'affinity': ['euclidean', 'l1', 'l2', 'manhattan', 'cosine']},\n",
       " 'sklearn.preprocessing.MaxAbsScaler': {},\n",
       " 'sklearn.preprocessing.MinMaxScaler': {},\n",
       " 'sklearn.preprocessing.Normalizer': {'norm': ['l1', 'l2', 'max']},\n",
       " 'sklearn.kernel_approximation.Nystroem': {'kernel': ['rbf',\n",
       "   'cosine',\n",
       "   'chi2',\n",
       "   'laplacian',\n",
       "   'polynomial',\n",
       "   'poly',\n",
       "   'linear',\n",
       "   'additive_chi2',\n",
       "   'sigmoid'],\n",
       "  'gamma': array([0.  , 0.05, 0.1 , 0.15, 0.2 , 0.25, 0.3 , 0.35, 0.4 , 0.45, 0.5 ,\n",
       "         0.55, 0.6 , 0.65, 0.7 , 0.75, 0.8 , 0.85, 0.9 , 0.95, 1.  ]),\n",
       "  'n_components': range(1, 11)},\n",
       " 'sklearn.decomposition.PCA': {'svd_solver': ['randomized'],\n",
       "  'iterated_power': range(1, 11)},\n",
       " 'sklearn.preprocessing.PolynomialFeatures': {'degree': [2],\n",
       "  'include_bias': [False],\n",
       "  'interaction_only': [False]},\n",
       " 'sklearn.kernel_approximation.RBFSampler': {'gamma': array([0.  , 0.05, 0.1 , 0.15, 0.2 , 0.25, 0.3 , 0.35, 0.4 , 0.45, 0.5 ,\n",
       "         0.55, 0.6 , 0.65, 0.7 , 0.75, 0.8 , 0.85, 0.9 , 0.95, 1.  ])},\n",
       " 'sklearn.preprocessing.RobustScaler': {},\n",
       " 'sklearn.preprocessing.StandardScaler': {},\n",
       " 'tpot.builtins.ZeroCount': {},\n",
       " 'tpot.builtins.OneHotEncoder': {'minimum_fraction': [0.05,\n",
       "   0.1,\n",
       "   0.15,\n",
       "   0.2,\n",
       "   0.25],\n",
       "  'sparse': [False],\n",
       "  'threshold': [10]},\n",
       " 'sklearn.feature_selection.SelectFwe': {'alpha': array([0.   , 0.001, 0.002, 0.003, 0.004, 0.005, 0.006, 0.007, 0.008,\n",
       "         0.009, 0.01 , 0.011, 0.012, 0.013, 0.014, 0.015, 0.016, 0.017,\n",
       "         0.018, 0.019, 0.02 , 0.021, 0.022, 0.023, 0.024, 0.025, 0.026,\n",
       "         0.027, 0.028, 0.029, 0.03 , 0.031, 0.032, 0.033, 0.034, 0.035,\n",
       "         0.036, 0.037, 0.038, 0.039, 0.04 , 0.041, 0.042, 0.043, 0.044,\n",
       "         0.045, 0.046, 0.047, 0.048, 0.049]),\n",
       "  'score_func': {'sklearn.feature_selection.f_regression': None}},\n",
       " 'sklearn.feature_selection.SelectPercentile': {'percentile': range(1, 100),\n",
       "  'score_func': {'sklearn.feature_selection.f_regression': None}},\n",
       " 'sklearn.feature_selection.VarianceThreshold': {'threshold': [0.0001,\n",
       "   0.0005,\n",
       "   0.001,\n",
       "   0.005,\n",
       "   0.01,\n",
       "   0.05,\n",
       "   0.1,\n",
       "   0.2]},\n",
       " 'sklearn.feature_selection.SelectFromModel': {'threshold': array([0.  , 0.05, 0.1 , 0.15, 0.2 , 0.25, 0.3 , 0.35, 0.4 , 0.45, 0.5 ,\n",
       "         0.55, 0.6 , 0.65, 0.7 , 0.75, 0.8 , 0.85, 0.9 , 0.95, 1.  ]),\n",
       "  'estimator': {'sklearn.ensemble.ExtraTreesRegressor': {'n_estimators': [100],\n",
       "    'max_features': array([0.05, 0.1 , 0.15, 0.2 , 0.25, 0.3 , 0.35, 0.4 , 0.45, 0.5 , 0.55,\n",
       "           0.6 , 0.65, 0.7 , 0.75, 0.8 , 0.85, 0.9 , 0.95, 1.  ])}}}}"
      ]
     },
     "execution_count": 4,
     "metadata": {},
     "output_type": "execute_result"
    }
   ],
   "source": [
    "from tpot_dev import tpot\n",
    "tpot.config.clustering_config_dict"
   ]
  },
  {
   "cell_type": "markdown",
   "id": "5224ff28",
   "metadata": {},
   "source": [
    "### Scoring functions\n",
    "\n",
    ">\n",
    "\n",
    "### todo\n",
    "- implementar [sillhouete coefficient](https://scikit-learn.org/stable/modules/clustering.html#silhouette-coefficient) "
   ]
  }
 ],
 "metadata": {
  "kernelspec": {
   "display_name": "Python 3 (ipykernel)",
   "language": "python",
   "name": "python3"
  },
  "language_info": {
   "codemirror_mode": {
    "name": "ipython",
    "version": 3
   },
   "file_extension": ".py",
   "mimetype": "text/x-python",
   "name": "python",
   "nbconvert_exporter": "python",
   "pygments_lexer": "ipython3",
   "version": "3.10.7"
  }
 },
 "nbformat": 4,
 "nbformat_minor": 5
}
